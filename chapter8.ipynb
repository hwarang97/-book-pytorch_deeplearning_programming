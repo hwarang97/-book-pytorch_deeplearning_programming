{
  "nbformat": 4,
  "nbformat_minor": 0,
  "metadata": {
    "colab": {
      "provenance": [],
      "gpuType": "T4",
      "authorship_tag": "ABX9TyNcONZpW0Th0f2XBY7syyFx",
      "include_colab_link": true
    },
    "kernelspec": {
      "name": "python3",
      "display_name": "Python 3"
    },
    "language_info": {
      "name": "python"
    },
    "accelerator": "GPU"
  },
  "cells": [
    {
      "cell_type": "markdown",
      "metadata": {
        "id": "view-in-github",
        "colab_type": "text"
      },
      "source": [
        "<a href=\"https://colab.research.google.com/github/hwarang97/book_pytorch_deeplearning_programming/blob/main/chapter8.ipynb\" target=\"_parent\"><img src=\"https://colab.research.google.com/assets/colab-badge.svg\" alt=\"Open In Colab\"/></a>"
      ]
    },
    {
      "cell_type": "markdown",
      "source": [
        "ref: https://github.com/wikibook/pytorchdl2/tree/main/notebooks"
      ],
      "metadata": {
        "id": "viRc7iZLtscy"
      }
    },
    {
      "cell_type": "code",
      "source": [
        "import numpy as np\n",
        "import matplotlib.pyplot as plt\n",
        "import torch\n",
        "import torch.nn as nn"
      ],
      "metadata": {
        "id": "TRYUZ8u0tEf2"
      },
      "execution_count": 1,
      "outputs": []
    },
    {
      "cell_type": "code",
      "execution_count": null,
      "metadata": {
        "colab": {
          "base_uri": "https://localhost:8080/",
          "height": 452
        },
        "id": "r80ufgonnWHv",
        "outputId": "845bdd6b-1759-4ece-fd1a-93b2f756e644"
      },
      "outputs": [
        {
          "output_type": "display_data",
          "data": {
            "text/plain": [
              "<Figure size 640x480 with 1 Axes>"
            ],
            "image/png": "[encoded data removed]"
          },
          "metadata": {}
        }
      ],
      "source": [
        "# ReLU implement\n",
        "\n",
        "relu = nn.ReLU()\n",
        "x_np = np.arange(-2, 2.1, 0.25)\n",
        "x = torch.tensor(x_np).float()\n",
        "y = relu(x)\n",
        "\n",
        "plt.plot(x.data, y.data)\n",
        "plt.title(\"ReLU function\")\n",
        "plt.show()"
      ]
    },
    {
      "cell_type": "code",
      "source": [
        "# 디바이스 할당\n",
        "device = torch.device('cuda:0' if torch.cuda.is_available() else 'cpu')\n",
        "print(device)"
      ],
      "metadata": {
        "id": "XwJqcnGRtt5u",
        "colab": {
          "base_uri": "https://localhost:8080/"
        },
        "outputId": "dd19f3b8-7d52-4d2d-a913-de18ac40ec03"
      },
      "execution_count": null,
      "outputs": [
        {
          "output_type": "stream",
          "name": "stdout",
          "text": [
            "cuda:0\n"
          ]
        }
      ]
    },
    {
      "cell_type": "code",
      "source": [
        "x_np = np.arange(-2.0, 2.1, 0.25)\n",
        "y_np = np.arange(-1.0, 3.1, 0.25)\n",
        "x = torch.tensor(x_np).float()\n",
        "y = torch.tensor(y_np).float()\n",
        "\n",
        "z = x * y\n",
        "print(z)"
      ],
      "metadata": {
        "colab": {
          "base_uri": "https://localhost:8080/"
        },
        "id": "4udH8aXVKbd5",
        "outputId": "538aefae-e59d-47e1-9636-4c045b6a611f"
      },
      "execution_count": null,
      "outputs": [
        {
          "output_type": "stream",
          "name": "stdout",
          "text": [
            "tensor([ 2.0000,  1.3125,  0.7500,  0.3125, -0.0000, -0.1875, -0.2500, -0.1875,\n",
            "         0.0000,  0.3125,  0.7500,  1.3125,  2.0000,  2.8125,  3.7500,  4.8125,\n",
            "         6.0000])\n"
          ]
        }
      ]
    },
    {
      "cell_type": "code",
      "source": [
        "print('x: ', x.device)\n",
        "\n",
        "x = x.to(device)\n",
        "print('x: ', x.device)"
      ],
      "metadata": {
        "colab": {
          "base_uri": "https://localhost:8080/"
        },
        "id": "LZn94n4ELGy4",
        "outputId": "962075d1-831d-4220-eb37-3ec053d59792"
      },
      "execution_count": null,
      "outputs": [
        {
          "output_type": "stream",
          "name": "stdout",
          "text": [
            "x:  cpu\n",
            "x:  cuda:0\n"
          ]
        }
      ]
    },
    {
      "cell_type": "code",
      "source": [
        "z = x * y # RuntimeError"
      ],
      "metadata": {
        "colab": {
          "base_uri": "https://localhost:8080/",
          "height": 147
        },
        "id": "q8DqrCucLRe9",
        "outputId": "e1ee48fc-ab89-4ea4-97c3-861f27b43594"
      },
      "execution_count": null,
      "outputs": [
        {
          "output_type": "error",
          "ename": "RuntimeError",
          "evalue": "Expected all tensors to be on the same device, but found at least two devices, cuda:0 and cpu!",
          "traceback": [
            "\u001b[0;31m---------------------------------------------------------------------------\u001b[0m",
            "\u001b[0;31mRuntimeError\u001b[0m                              Traceback (most recent call last)",
            "\u001b[0;32m<ipython-input-10-c1c7a018fd56>\u001b[0m in \u001b[0;36m<cell line: 1>\u001b[0;34m()\u001b[0m\n\u001b[0;32m----> 1\u001b[0;31m \u001b[0mz\u001b[0m \u001b[0;34m=\u001b[0m \u001b[0mx\u001b[0m \u001b[0;34m*\u001b[0m \u001b[0my\u001b[0m \u001b[0;31m# RuntimeError\u001b[0m\u001b[0;34m\u001b[0m\u001b[0;34m\u001b[0m\u001b[0m\n\u001b[0m",
            "\u001b[0;31mRuntimeError\u001b[0m: Expected all tensors to be on the same device, but found at least two devices, cuda:0 and cpu!"
          ]
        }
      ]
    },
    {
      "cell_type": "code",
      "source": [
        "y = y.to(device)\n",
        "\n",
        "z = x * y # success"
      ],
      "metadata": {
        "id": "Mw5IO0i5LUl_"
      },
      "execution_count": null,
      "outputs": []
    },
    {
      "cell_type": "code",
      "source": [
        "import torchvision.datasets as dataset\n",
        "\n",
        "data_root = './data'\n",
        "\n",
        "train_set0 = dataset.MNIST(\n",
        "    # 원본 데이터가 담긴 경로\n",
        "    root = data_root,\n",
        "    # 훈련인지 검증인지를 선택\n",
        "    train = True,\n",
        "\n",
        "    download = True\n",
        ")"
      ],
      "metadata": {
        "id": "thwan_esLfX8"
      },
      "execution_count": 5,
      "outputs": []
    },
    {
      "cell_type": "code",
      "source": [
        "!ls -lR ./data/MNIST"
      ],
      "metadata": {
        "colab": {
          "base_uri": "https://localhost:8080/"
        },
        "id": "ALlLmLTELUMt",
        "outputId": "d9026101-8e82-477f-ad61-09271f42d970"
      },
      "execution_count": null,
      "outputs": [
        {
          "output_type": "stream",
          "name": "stdout",
          "text": [
            "./data/MNIST:\n",
            "total 4\n",
            "drwxr-xr-x 2 root root 4096 Nov  6 20:31 raw\n",
            "\n",
            "./data/MNIST/raw:\n",
            "total 65012\n",
            "-rw-r--r-- 1 root root  7840016 Nov  6 20:31 t10k-images-idx3-ubyte\n",
            "-rw-r--r-- 1 root root  1648877 Nov  6 20:31 t10k-images-idx3-ubyte.gz\n",
            "-rw-r--r-- 1 root root    10008 Nov  6 20:31 t10k-labels-idx1-ubyte\n",
            "-rw-r--r-- 1 root root     4542 Nov  6 20:31 t10k-labels-idx1-ubyte.gz\n",
            "-rw-r--r-- 1 root root 47040016 Nov  6 20:31 train-images-idx3-ubyte\n",
            "-rw-r--r-- 1 root root  9912422 Nov  6 20:31 train-images-idx3-ubyte.gz\n",
            "-rw-r--r-- 1 root root    60008 Nov  6 20:31 train-labels-idx1-ubyte\n",
            "-rw-r--r-- 1 root root    28881 Nov  6 20:31 train-labels-idx1-ubyte.gz\n"
          ]
        }
      ]
    },
    {
      "cell_type": "code",
      "source": [
        "print('데이터 건수 : ', len(train_set0))\n",
        "\n",
        "# 첫 번째 요소(이미지, 레이블)\n",
        "image, label = train_set0[0]\n",
        "\n",
        "print('입력 데이터 타입: ', type(image))\n",
        "print('정답 데이터 타입: ', type(label))"
      ],
      "metadata": {
        "colab": {
          "base_uri": "https://localhost:8080/"
        },
        "id": "vYQKnvIrLYLw",
        "outputId": "558e311d-e9b3-4599-f206-cc1401f33a1f"
      },
      "execution_count": null,
      "outputs": [
        {
          "output_type": "stream",
          "name": "stdout",
          "text": [
            "데이터 건수 :  60000\n",
            "입력 데이터 타입:  <class 'PIL.Image.Image'>\n",
            "정답 데이터 타입:  <class 'int'>\n"
          ]
        }
      ]
    },
    {
      "cell_type": "code",
      "source": [
        "plt.figure(figsize=(1,1))\n",
        "plt.title(f'{label}')\n",
        "plt.imshow(image, cmap='gray_r')\n",
        "plt.axis('off')\n",
        "plt.show()"
      ],
      "metadata": {
        "colab": {
          "base_uri": "https://localhost:8080/",
          "height": 136
        },
        "id": "i-Lb7XiVMI9h",
        "outputId": "d6cb28bd-8bad-4b14-fe87-b80a53bc0c7a"
      },
      "execution_count": null,
      "outputs": [
        {
          "output_type": "display_data",
          "data": {
            "text/plain": [
              "<Figure size 100x100 with 1 Axes>"
            ],
            "image/png": "[encoded data removed]"
          },
          "metadata": {}
        }
      ]
    },
    {
      "cell_type": "code",
      "source": [
        "figure = plt.figure(figsize=(10,3))\n",
        "for i in range(20):\n",
        "  ax = plt.subplot(2, 10, i+1)\n",
        "\n",
        "  image, label = train_set0[i]\n",
        "  ax.set_title(f'{label}')\n",
        "  ax.get_xaxis().set_visible(False)\n",
        "  ax.get_yaxis().set_visible(False)\n",
        "\n",
        "  plt.imshow(image, cmap='gray_r')\n",
        "\n",
        "plt.axis('off')\n",
        "plt.show()"
      ],
      "metadata": {
        "colab": {
          "base_uri": "https://localhost:8080/",
          "height": 251
        },
        "id": "C9LqnuOUMdZN",
        "outputId": "86da9f81-df79-41d3-b0e6-a60684c542a0"
      },
      "execution_count": null,
      "outputs": [
        {
          "output_type": "display_data",
          "data": {
            "text/plain": [
              "<Figure size 1000x300 with 20 Axes>"
            ],
            "image/png": "[encoded data removed]"
          },
          "metadata": {}
        }
      ]
    },
    {
      "cell_type": "code",
      "source": [
        "import torchvision.transforms as transforms\n",
        "\n",
        "transform1 = transforms.Compose([\n",
        "    transforms.ToTensor(),\n",
        "])\n",
        "\n",
        "train_set1 = dataset.MNIST(\n",
        "    root=data_root, train=True, download=True,\n",
        "    transform = transform1\n",
        ")"
      ],
      "metadata": {
        "id": "Ouo0bFbIOeZL"
      },
      "execution_count": 6,
      "outputs": []
    },
    {
      "cell_type": "code",
      "source": [
        "image, label = train_set1[0]\n",
        "print('입력 데이터 타입 : ', type(image)) # 변경 전에는 PIL.Image.Image\n",
        "print('입력 데이터 shape : ', image.shape)\n",
        "print('입력 최소값 : ', image.data.min())\n",
        "print('입력 최대값 : ', image.data.max())"
      ],
      "metadata": {
        "colab": {
          "base_uri": "https://localhost:8080/"
        },
        "id": "dTzImnImO-Co",
        "outputId": "701c13e9-ec91-4c96-929e-d7a63709c48a"
      },
      "execution_count": null,
      "outputs": [
        {
          "output_type": "stream",
          "name": "stdout",
          "text": [
            "입력 데이터 타입 :  <class 'torch.Tensor'>\n",
            "입력 데이터 shape :  torch.Size([1, 28, 28])\n",
            "입력 최소값 :  tensor(0.)\n",
            "입력 최대값 :  tensor(1.)\n"
          ]
        }
      ]
    },
    {
      "cell_type": "code",
      "source": [
        "transform2 = transforms.Compose([\n",
        "    transforms.ToTensor(),\n",
        "    transforms.Normalize(0.5, 0.5),\n",
        "])\n",
        "\n",
        "train_set2 = dataset.MNIST(\n",
        "    root=data_root, train=True, download=True,\n",
        "    transform = transform2\n",
        ")"
      ],
      "metadata": {
        "id": "7igQzHmgPhxB"
      },
      "execution_count": null,
      "outputs": []
    },
    {
      "cell_type": "code",
      "source": [
        "image, lable = train_set2[0]\n",
        "print('shape : ', image.shape)\n",
        "print('min : ', image.data.min())\n",
        "print('max : ', image.data.max())"
      ],
      "metadata": {
        "colab": {
          "base_uri": "https://localhost:8080/"
        },
        "id": "oy5y7T5gQyDp",
        "outputId": "fb860e7b-4cc9-4141-e6ca-deeab6d55696"
      },
      "execution_count": null,
      "outputs": [
        {
          "output_type": "stream",
          "name": "stdout",
          "text": [
            "shape :  torch.Size([1, 28, 28])\n",
            "min :  tensor(-1.)\n",
            "max :  tensor(1.)\n"
          ]
        }
      ]
    },
    {
      "cell_type": "code",
      "source": [
        "transform3 = transforms.Compose([\n",
        "    transforms.ToTensor(),\n",
        "    transforms.Normalize(0.5, 0.5),\n",
        "    transforms.Lambda(lambda x: x.view(-1))\n",
        "])\n",
        "\n",
        "train_set3 = dataset.MNIST(\n",
        "    root=data_root, train=True, download=True,\n",
        "    transform=transform3)"
      ],
      "metadata": {
        "id": "U_Qy98pEQ-AR"
      },
      "execution_count": 8,
      "outputs": []
    },
    {
      "cell_type": "code",
      "source": [
        "image, label = train_set3[0]\n",
        "print('shape :', image.shape)\n",
        "print('최솟값 : ', image.data.min())\n",
        "print('최댓값 : ', image.data.max())"
      ],
      "metadata": {
        "colab": {
          "base_uri": "https://localhost:8080/"
        },
        "id": "lkJrOPV7fTr1",
        "outputId": "98b22455-177b-4d78-c2c3-3a5579ed89ad"
      },
      "execution_count": 9,
      "outputs": [
        {
          "output_type": "stream",
          "name": "stdout",
          "text": [
            "shape : torch.Size([784])\n",
            "최솟값 :  tensor(-1.)\n",
            "최댓값 :  tensor(1.)\n"
          ]
        }
      ]
    },
    {
      "cell_type": "code",
      "source": [
        "transform = transforms.Compose([\n",
        "    transforms.ToTensor(),\n",
        "    transforms.Normalize(0.5, 0.5),\n",
        "    transforms.Lambda(lambda x: x.view(-1)),\n",
        "])\n",
        "\n",
        "train_set = dataset.MNIST(\n",
        "    root=data_root, train=True, download=True, transform=transform\n",
        ")\n",
        "\n",
        "test_set = dataset.MNIST(\n",
        "    root=data_root, train=False, download=True, transform=transform\n",
        ")"
      ],
      "metadata": {
        "id": "3ahRQInTg3AT"
      },
      "execution_count": 10,
      "outputs": []
    },
    {
      "cell_type": "code",
      "source": [
        "from torch.utils.data import DataLoader\n",
        "\n",
        "batch_size = 500\n",
        "\n",
        "train_loader = DataLoader(\n",
        "    dataset=train_set, batch_size=batch_size, shuffle=True\n",
        ")\n",
        "\n",
        "test_loader = DataLoader(\n",
        "    dataset=test_set, batch_size=batch_size, shuffle=False\n",
        ")"
      ],
      "metadata": {
        "id": "I_jGKSSwjiBy"
      },
      "execution_count": 11,
      "outputs": []
    },
    {
      "cell_type": "code",
      "source": [
        "print(len(train_loader)) # 120 (60_000 / 500)\n",
        "\n",
        "for images, labels in train_loader:\n",
        "  break\n",
        "\n",
        "print(images.shape)\n",
        "print(labels.shape)"
      ],
      "metadata": {
        "colab": {
          "base_uri": "https://localhost:8080/"
        },
        "id": "8hqUXhOIkZ7M",
        "outputId": "e99280a8-990f-4602-f044-76ba3e714ca6"
      },
      "execution_count": 14,
      "outputs": [
        {
          "output_type": "stream",
          "name": "stdout",
          "text": [
            "120\n",
            "torch.Size([500, 784])\n",
            "torch.Size([500])\n"
          ]
        }
      ]
    },
    {
      "cell_type": "code",
      "source": [
        "# 이미지 출력\n",
        "plt.figure(figsize=(10, 3))\n",
        "for i in range(20):\n",
        "    ax = plt.subplot(2, 10, i + 1)\n",
        "\n",
        "    # 넘파이로 배열로 변환\n",
        "    image = images[i].numpy()\n",
        "    label = labels[i]\n",
        "\n",
        "    # 이미지의 범위를 [0, 1] 로 되돌림\n",
        "    image2 = (image + 1)/ 2\n",
        "\n",
        "    # 이미지 출력\n",
        "    plt.imshow(image2.reshape(28, 28),cmap='gray_r')\n",
        "    ax.set_title(f'{label}')\n",
        "    ax.get_xaxis().set_visible(False)\n",
        "    ax.get_yaxis().set_visible(False)\n",
        "plt.show()"
      ],
      "metadata": {
        "id": "3-2ansaLqYlZ"
      },
      "execution_count": null,
      "outputs": []
    }
  ]
}